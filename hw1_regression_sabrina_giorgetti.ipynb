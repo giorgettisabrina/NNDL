{
 "cells": [
  {
   "cell_type": "markdown",
   "id": "56f66017",
   "metadata": {},
   "source": [
    "# Homework I : Supervised Deep Learning - Regression\n",
    "\n",
    "## Sabrina Giorgetti - 2013375"
   ]
  },
  {
   "cell_type": "markdown",
   "id": "d6d7771b",
   "metadata": {},
   "source": [
    "##  Index\n",
    "\n",
    "1. [Introduction](#Introduction)<br>\n",
    "    1.1 [Import](#Import)<br>\n",
    "    1.2 [Dataset](#Dataset)<br>\n",
    "2. [Regression](#Autoencoder)<br>\n",
    "    2.1 [Model](#Intro)<br>\n",
    "    2.3 [Trial](#Trial)<br>\n",
    "3. [Optimization with cross-validation](#Optimization-with-cross-validation)<br>\n",
    "    3.1 [Optuna-study](#Optuna-study)<br>\n",
    "    3.2 [Study results](#Study-results)<br>\n",
    "4. [Best model](#Best-model)<br>\n",
    "    4.1 [Training](#Training)<br>\n",
    "    4.2 [Prediction](#Prediction)<br>\n",
    "5. [Visualization](#Visualization)<br>\n"
   ]
  },
  {
   "cell_type": "code",
   "execution_count": 1,
   "id": "dcc211ac",
   "metadata": {},
   "outputs": [
    {
     "data": {
      "text/html": [
       "<style>.rendered_html { font-size: 16px; }</style>"
      ],
      "text/plain": [
       "<IPython.core.display.HTML object>"
      ]
     },
     "metadata": {},
     "output_type": "display_data"
    }
   ],
   "source": [
    "from IPython.display import display, HTML\n",
    "display(HTML(\"<style>.rendered_html { font-size: 16px; }</style>\"))"
   ]
  },
  {
   "cell_type": "markdown",
   "id": "d3ae63b2",
   "metadata": {},
   "source": [
    "# Introduction\n",
    "\n",
    "Machine learning (ML) is a set of methods that give to a computer systems the ability to learn from training data to make predictions about novel data samples, if the training data are provided with the corresponding correct predictions, called labels, then we talk about supervised machine learning. \n",
    "\n",
    "Regression is a supervised machine learning algorithm in which one tries to find a relationship between independent variable $x$ and dependent variable $y$. In this homework, the aim is to approximate the trend of the scalar function:  \n",
    "\n",
    "$$ y = f(x)$$ \n",
    "$$ x \\rightarrow f(x) $$\n",
    "\n",
    "with $ x \\in R$ and $ f: R \\rightarrow R $. This is achivable with a supervised training $D=\\{x_{train},y_{train}\\}$ of fully connected neural network (FCNN) such that $ y_{pred} \\sim f(x) $ is the best approximation of the relation\n",
    "between input and output. \n",
    "\n",
    "The implementation is carried out in a Python environment with a PyTorch framework, as an optimization tool Optuna is also used. The code and images can be found at the following link [Github repo](https://github.com/giorgettisabrina/NNDL/tree/main/homework1)"
   ]
  },
  {
   "cell_type": "markdown",
   "id": "a5a2013c",
   "metadata": {},
   "source": [
    "**Required tasks**\n",
    "\n",
    "Grade: The maximum grade for this homework will be 8 points. Points will be assigned based on the correct implementation of the following items:\n",
    "- 2 pt: implement basic regression and classification tasks\n",
    "- 2 pt: explore advanced optimizers and regularization methods (both tasks)\n",
    "- 1 pt: optimize hyperparameters using grid/random search and cross-validation (both tasks)\n",
    "- 2 pt: implement CNN for classification task\n",
    "- 1 pt: visualize weight histograms, activation profiles and receptive fields\n"
   ]
  },
  {
   "cell_type": "markdown",
   "id": "eaec622d",
   "metadata": {},
   "source": [
    "## Import "
   ]
  },
  {
   "cell_type": "code",
   "execution_count": 1,
   "id": "53750af5",
   "metadata": {},
   "outputs": [],
   "source": [
    "import numpy as np\n",
    "import pandas as pd\n",
    "import matplotlib.pyplot as plt\n",
    "from tqdm import tqdm   \n",
    "import random\n",
    "import os\n",
    "\n",
    "from sklearn.model_selection import train_test_split, KFold\n",
    "\n",
    "import torch\n",
    "import torch.nn as nn\n",
    "import torch.optim as optim\n",
    "from torch.utils.data import Dataset, DataLoader, random_split\n",
    "import torch.nn.functional as F\n",
    "from torchvision import transforms\n",
    "import torchvision\n",
    "\n",
    "import optuna"
   ]
  },
  {
   "cell_type": "code",
   "execution_count": 2,
   "id": "7c2b0e14",
   "metadata": {},
   "outputs": [
    {
     "data": {
      "text/plain": [
       "device(type='cuda')"
      ]
     },
     "execution_count": 2,
     "metadata": {},
     "output_type": "execute_result"
    }
   ],
   "source": [
    "#Check if any GPU is available, otherwise use CPU  \n",
    "device = torch.device(\"cuda\") if torch.cuda.is_available() else torch.device(\"cpu\")\n",
    "device"
   ]
  },
  {
   "cell_type": "code",
   "execution_count": 3,
   "id": "6a90c956",
   "metadata": {},
   "outputs": [
    {
     "data": {
      "text/plain": [
       "<torch._C.Generator at 0x7f3d2c251470>"
      ]
     },
     "execution_count": 3,
     "metadata": {},
     "output_type": "execute_result"
    }
   ],
   "source": [
    "seed = 2134\n",
    "np.random.seed(seed)\n",
    "random.seed(seed)\n",
    "torch.manual_seed(seed)\n"
   ]
  },
  {
   "cell_type": "markdown",
   "id": "91f6fe1a",
   "metadata": {},
   "source": [
    "# Dataset "
   ]
  },
  {
   "cell_type": "markdown",
   "id": "ddd5ddc3",
   "metadata": {},
   "source": [
    "The dataset provided, plotted below, has the following characteristic :\n",
    "    \n",
    "- Training set : 100 points\n",
    "- Test set : 100 points\n",
    "    \n",
    "    \n",
    "The training points are further divided into training data and validation data, the splitting size is set to 0.2, so in the end we have only 80 points for training and 20 for validation. One can notice that the training and test data are not distributed homogeneously and that there are intervals in which we have only training data and likewise with test set. Moreover the amount of data available is not much and we must take this into account if want to perform an hyperparameters optimization. "
   ]
  },
  {
   "cell_type": "code",
   "execution_count": 4,
   "id": "06d1ca09",
   "metadata": {},
   "outputs": [],
   "source": [
    "#!wget -P regression_dataset https://gitlab.dei.unipd.it/michieli/nnld-2021-22-lab-resources/-/raw/main/homework1/train_data.csv\n",
    "#!wget -P regression_dataset https://gitlab.dei.unipd.it/michieli/nnld-2021-22-lab-resources/-/raw/main/homework1/test_data.csv "
   ]
  },
  {
   "cell_type": "code",
   "execution_count": 5,
   "id": "65610d16",
   "metadata": {},
   "outputs": [],
   "source": [
    "train_df = pd.read_csv('regression_dataset/train_data.csv')\n",
    "test_df = pd.read_csv('regression_dataset/test_data.csv')"
   ]
  },
  {
   "cell_type": "code",
   "execution_count": 6,
   "id": "75476d82",
   "metadata": {},
   "outputs": [],
   "source": [
    "class CsvDataset(Dataset):\n",
    "    def __init__(self, csv_file: str, transform=None):\n",
    "        self.transform = transform\n",
    "        self.data = csv_file\n",
    "\n",
    "    def __len__(self):\n",
    "        # The length of the dataset is simply the length of the self.data list\n",
    "        return len(self.data)\n",
    "\n",
    "    def __getitem__(self, idx):\n",
    "        # sample: ('index', 'label) --> sample = (csv_file index elem, csv_file column element)\n",
    "        sample = (self.data.iloc[idx][0], self.data.iloc[idx][1])\n",
    "        if self.transform:\n",
    "            sample = self.transform(sample)\n",
    "        return sample\n",
    "\n",
    "class ToTensor(object):\n",
    "    \"\"\"Convert sample to Tensors.\"\"\"\n",
    "\n",
    "    def __call__(self, sample):\n",
    "        x, y = sample\n",
    "        return (torch.tensor([x]).float(),\n",
    "                torch.tensor([y]).float())\n"
   ]
  },
  {
   "cell_type": "code",
   "execution_count": 7,
   "id": "b7ec0b1f",
   "metadata": {},
   "outputs": [
    {
     "name": "stdout",
     "output_type": "stream",
     "text": [
      "Number of samples in the train dataset: 80\n",
      "Number of samples in the validation dataset: 20\n",
      "Number of samples in the test dataset: 100\n"
     ]
    }
   ],
   "source": [
    "train_split, val_split = train_test_split(train_df,test_size=0.2, shuffle= True,  random_state=seed)\n",
    "train_split = train_split.reset_index(drop=True)\n",
    "val_split = val_split.reset_index(drop=True)\n",
    "\n",
    "print('Number of samples in the train dataset:', len(train_split))\n",
    "print('Number of samples in the validation dataset:', len(val_split))\n",
    "print('Number of samples in the test dataset:', len(test_df))"
   ]
  },
  {
   "cell_type": "code",
   "execution_count": 27,
   "id": "86b3ff4c",
   "metadata": {},
   "outputs": [],
   "source": [
    "composed_transform = transforms.Compose([ToTensor()])\n",
    "\n",
    "train_data = CsvDataset(train_df, transform=composed_transform)\n",
    "train_dataset = CsvDataset(train_split, transform=composed_transform)\n",
    "val_dataset = CsvDataset(val_split, transform=composed_transform)\n",
    "test_dataset= CsvDataset(test_df, transform=composed_transform)"
   ]
  },
  {
   "cell_type": "code",
   "execution_count": 9,
   "id": "55dfd011",
   "metadata": {},
   "outputs": [],
   "source": [
    "train_dataloader = DataLoader(train_dataset, batch_size=15, shuffle=True, num_workers=0)\n",
    "val_dataloader  = DataLoader(val_dataset,  batch_size=len(val_dataset), shuffle=True, num_workers=0)\n",
    "test_dataloader = DataLoader(test_dataset,  batch_size=len(test_dataset), shuffle=False, num_workers=0)\n"
   ]
  },
  {
   "cell_type": "markdown",
   "id": "7ae00b7f",
   "metadata": {},
   "source": [
    "With the Dataloader module we can define the batch size and enable shuffling for the training data."
   ]
  },
  {
   "cell_type": "code",
   "execution_count": 10,
   "id": "1f1b18b9",
   "metadata": {},
   "outputs": [
    {
     "name": "stdout",
     "output_type": "stream",
     "text": [
      "SAMPLE AT INDEX 9\n",
      "INPUT: -3.44016058929888\n",
      "LABEL: 2.8657826429373463\n"
     ]
    },
    {
     "data": {
      "image/png": "[encoded data removed]",
      "text/plain": [
       "<Figure size 864x576 with 1 Axes>"
      ]
     },
     "metadata": {
      "needs_background": "light"
     },
     "output_type": "display_data"
    }
   ],
   "source": [
    "sample_index = 9\n",
    "input = train_df.iloc[sample_index]['input']\n",
    "label = train_df.iloc[sample_index]['label']\n",
    "\n",
    "print(f\"SAMPLE AT INDEX {sample_index}\")\n",
    "print(f\"INPUT: {input}\")\n",
    "print(f\"LABEL: {label}\")\n",
    "\n",
    "fig = plt.figure(figsize=(12,8))\n",
    "plt.scatter(train_df.input, train_df.label, label='Training points')\n",
    "plt.scatter(test_df.input, test_df.label, label='Test points')\n",
    "plt.xlabel('input')\n",
    "plt.ylabel('label')\n",
    "plt.legend()\n",
    "plt.show()"
   ]
  },
  {
   "cell_type": "markdown",
   "id": "b0011b57",
   "metadata": {},
   "source": [
    "# Regression"
   ]
  },
  {
   "cell_type": "markdown",
   "id": "f918e9cb",
   "metadata": {},
   "source": [
    "## Model "
   ]
  },
  {
   "cell_type": "markdown",
   "id": "fc8456eb",
   "metadata": {},
   "source": [
    "We built a *Net* class in which we define the model and also the training and evaluation loop. The model is a fully connected neural network with the following architecture:\n",
    "\n",
    "- Input Layer of dimension one \n",
    "- First dense layer with *Nh1* hidden units\n",
    "- Second dense layer with *Nh2* hidden units\n",
    "- Output layer of dimension one \n",
    "\n",
    "as activation function the Rectified linear activation function (ReLU)is used. The loss function we want to minimize is the mean squared error (MSEloss) defined as : $L(y,y_{pred}) = \\frac{1}{N} \\sum_i^N (y_i -y_{pred})^2$.\n",
    "In order to perform a first trial run, we choose *Adam* as the optimizer chosen with a learning rate equal to $10^{-3}$ and we also apply L2 regularization though the *weghit_norm* variable to prevent overfitting and force smaller weights values. "
   ]
  },
  {
   "cell_type": "code",
   "execution_count": 11,
   "id": "687c870d",
   "metadata": {},
   "outputs": [],
   "source": [
    "class Net(nn.Module):\n",
    "    \n",
    "    def __init__(self, Ni, Nh1, Nh2, No):\n",
    "        \"\"\"\n",
    "        Ni - Input size\n",
    "        Nh1 - Neurons in the 1st hidden layer\n",
    "        Nh2 - Neurons in the 2nd hidden layer\n",
    "        No - Output size\n",
    "        \"\"\"\n",
    "        super().__init__()\n",
    "        \n",
    "        self.fc1 = nn.Linear(in_features=Ni, out_features=Nh1)\n",
    "        self.fc2 = nn.Linear(in_features=Nh1, out_features=Nh2)\n",
    "        self.out = nn.Linear(in_features=Nh2, out_features=No)\n",
    "        self.act = nn.ReLU()\n",
    "        # network definition with just its architecture  \n",
    "        \n",
    "    def forward(self, x, additional_out = -1):\n",
    "        x = self.act(self.fc1(x))\n",
    "        x = self.act(self.fc2(x))\n",
    "        x = self.out(x)\n",
    "        return x\n",
    "\n",
    "\n",
    "    def train_step(self, train_dataloader, val_dataloader, param_dict):\n",
    "        \n",
    "        train_loss_log =[]\n",
    "        val_loss_log = []\n",
    "\n",
    "        epochs = param_dict['epochs']\n",
    "        loss_fn = param_dict['loss']\n",
    "    \n",
    "        optimizer_name = param_dict['optimizer']\n",
    "        lr = param_dict['lr']\n",
    "        weight_norm = param_dict['weight_norm']\n",
    "        optimizer = getattr(optim, optimizer_name)(self.parameters(),lr=lr, weight_decay=weight_norm)\n",
    "\n",
    "        \n",
    "        for epoch in tqdm(range(epochs)):\n",
    "\n",
    "            train_loss= []\n",
    "            # Training mode (e.g. enable dropout, batchnorm updates,...)\n",
    "            self.train()\n",
    "            for sample_batched in train_dataloader:\n",
    "                # Move data to device\n",
    "                x_batch = sample_batched[0].to(device)\n",
    "                label_batch = sample_batched[1].to(device)\n",
    "        \n",
    "                # Forward pass\n",
    "                out = self(x_batch)\n",
    "        \n",
    "                # Compute loss\n",
    "                loss = loss_fn(out, label_batch)\n",
    "        \n",
    "                # Backpropagation\n",
    "                self.zero_grad() #set all the gradient to zero\n",
    "                loss.backward() #call the backward func.\n",
    "        \n",
    "                # Update the weights\n",
    "                optimizer.step()\n",
    "        \n",
    "                # Save train loss for this batch\n",
    "                loss_batch = loss.detach().cpu().numpy()\n",
    "                train_loss.append(loss_batch)\n",
    "            \n",
    "            # Save average train loss\n",
    "            train_loss = np.mean(train_loss)\n",
    "            train_loss_log.append(train_loss)\n",
    "    \n",
    "\n",
    "            val_loss= []\n",
    "            acc_list=[]\n",
    "            #Set network in evaluation mode, parameters are frozen, in this case we do the \n",
    "            #validation after every step of the training\n",
    "    \n",
    "            self.eval() # Evaluation mode (e.g. disable dropout, batchnorm,...)\n",
    "            with torch.no_grad(): # Disable gradient tracking\n",
    "                for sample_batched in val_dataloader:\n",
    "                    # Move data to device\n",
    "                    x_batch = sample_batched[0].to(device)\n",
    "                    label_batch = sample_batched[1].to(device)\n",
    "        \n",
    "                    # Forward pass\n",
    "                    out = self(x_batch)\n",
    "        \n",
    "                    # Compute loss\n",
    "                    loss = loss_fn(out, label_batch)\n",
    "        \n",
    "                    # Save val loss for this batch\n",
    "                    loss_batch = loss.detach().cpu().numpy()\n",
    "                    val_loss.append(loss_batch)\n",
    "   \n",
    "                # Save average validation loss\n",
    "                val_loss = np.mean(val_loss)\n",
    "                val_loss_log.append(val_loss)\n",
    "                \n",
    "        return train_loss_log, val_loss_log\n",
    "    \n"
   ]
  },
  {
   "cell_type": "markdown",
   "id": "016da9ff",
   "metadata": {},
   "source": [
    "## Trial "
   ]
  },
  {
   "cell_type": "code",
   "execution_count": 12,
   "id": "54d5071c",
   "metadata": {},
   "outputs": [],
   "source": [
    "model = Net(1,64,32,1)\n",
    "model.to(device)\n",
    "\n",
    "\n",
    "param_dict = {\n",
    "    'epochs': 300,\n",
    "    'loss':  nn.MSELoss(),\n",
    "    'optimizer': 'Adam',\n",
    "    'lr': 1e-3,\n",
    "    'weight_norm': 1e-1\n",
    "    \n",
    "}\n"
   ]
  },
  {
   "cell_type": "code",
   "execution_count": 13,
   "id": "c99bb606",
   "metadata": {},
   "outputs": [
    {
     "name": "stderr",
     "output_type": "stream",
     "text": [
      "100%|███████████████████████████████████████████████████████████████████████████████████████████████████████████████████████| 300/300 [00:07<00:00, 38.18it/s]\n"
     ]
    }
   ],
   "source": [
    "train_loss, val_loss  = model.train_step(train_dataloader, val_dataloader, param_dict)"
   ]
  },
  {
   "cell_type": "code",
   "execution_count": 14,
   "id": "adcf4a13",
   "metadata": {},
   "outputs": [
    {
     "data": {
      "image/png": "[encoded data removed]",
      "text/plain": [
       "<Figure size 864x576 with 1 Axes>"
      ]
     },
     "metadata": {
      "needs_background": "light"
     },
     "output_type": "display_data"
    }
   ],
   "source": [
    "# Plot losses\n",
    "plt.figure(figsize=(12,8))\n",
    "#plt.semilogy\n",
    "plt.plot(train_loss, label='Train loss')\n",
    "plt.plot(val_loss, label='Validation loss')\n",
    "plt.xlabel('Epoch')\n",
    "plt.ylabel('Loss')\n",
    "plt.grid()\n",
    "plt.legend()\n",
    "plt.show()"
   ]
  },
  {
   "cell_type": "code",
   "execution_count": 15,
   "id": "19ca2fa1",
   "metadata": {},
   "outputs": [
    {
     "name": "stdout",
     "output_type": "stream",
     "text": [
      "Input shape: torch.Size([1000, 1])\n",
      "Output shape: torch.Size([1000, 1])\n"
     ]
    }
   ],
   "source": [
    "# Input vector\n",
    "x_vec = torch.linspace(-5.5,5.5,1000).to(device)\n",
    "x_vec = x_vec.unsqueeze(-1)  # Adding a dimension to the input vector\n",
    "print(f\"Input shape: {x_vec.shape}\")\n",
    "\n",
    "# Network output\n",
    "# eval() acts as switch for some specific layers/parts of the model that behave\n",
    "# differently during training and inference (eval) time. For example, Dropout \n",
    "# BatchNorm etc. \n",
    "model.eval()\n",
    "with torch.no_grad(): # turn off gradients computation\n",
    "    y_vec = model(x_vec)\n",
    "print(f\"Output shape: {y_vec.shape}\")\n",
    "\n",
    "# Expected output\n",
    "#beta_true = [-1.45, 1.12, 2.3]\n",
    "#true_model = poly_model(x_vec.cpu().numpy(), beta_true).squeeze()\n",
    "# Convert x_vec and y_vec to numpy one dimensional arrays\n",
    "x_vec = x_vec.squeeze().cpu().numpy()\n",
    "y_vec = y_vec.squeeze().cpu().numpy()"
   ]
  },
  {
   "cell_type": "code",
   "execution_count": 16,
   "id": "7eae7cb9",
   "metadata": {},
   "outputs": [
    {
     "data": {
      "image/png": "[encoded data removed]",
      "text/plain": [
       "<Figure size 864x576 with 1 Axes>"
      ]
     },
     "metadata": {
      "needs_background": "light"
     },
     "output_type": "display_data"
    }
   ],
   "source": [
    "fig = plt.figure(figsize=(12,8))\n",
    "plt.scatter(train_df.input, train_df.label, label='Training points')\n",
    "plt.scatter(test_df.input, test_df.label, label='Test points')\n",
    "plt.plot(x_vec, y_vec, label='NN prediction', color='green')\n",
    "plt.xlabel('input')\n",
    "plt.ylabel('label')\n",
    "plt.grid()\n",
    "plt.legend()\n",
    "plt.show()"
   ]
  },
  {
   "cell_type": "markdown",
   "id": "75570c9c",
   "metadata": {},
   "source": [
    "As we can see from the plot above, the network is not fitting well the points: this is an indication that the model choosen is perhaps too simple or the optimizer is not optimal. We are now going to perform an hyperparameters optimization to find a better set of parameters. "
   ]
  },
  {
   "cell_type": "markdown",
   "id": "0b943856",
   "metadata": {},
   "source": [
    "# Optimization with cross-validation "
   ]
  },
  {
   "cell_type": "markdown",
   "id": "6ebf4cbc",
   "metadata": {},
   "source": [
    "[Optuna](https://optuna.readthedocs.io/en/stable/#) is a software framework for automating the optimization process of of the hyperparameters of a neural network. It allows to choose from diffrent sampler algorithms, in our case, we'll make use of the *Random Search* sampler. An Optuna study has two main blocks:\n",
    "\n",
    "- Objective function in which one specifies the hyperparameters to be considered, defines (or calls) the training loop and returns as output the object of the study.\n",
    "\n",
    "- The Study creation (optuna.create_study) that defines the optimization session: one passes the objective function, specifies the number of trials and the direction of the study, which can be either to \"minimize\" or to \"maximixe\" the study object.\n",
    "\n",
    "\n",
    "A trial corresponds to a single execution of the objective function to which a specific set of hyperparameter is associated; during the optimization, Optuna repeatedly calls and evaluates the objective function, and in the end  study.best_trial returns the best set of values found. "
   ]
  },
  {
   "cell_type": "markdown",
   "id": "f8cb9bf9",
   "metadata": {},
   "source": [
    "## Optuna study"
   ]
  },
  {
   "cell_type": "markdown",
   "id": "93113f5f",
   "metadata": {},
   "source": [
    "In the table we report the paramemeters considered during the tuning, the type of seach and the range considered. We have decided to study not only the optimizer and the learning rate associated, but also the number of units of the first and second hidden layer *units_1* and *units_2*; moreover we tune the regularization term *weight_decay*.\n",
    "\n",
    "\n",
    "|Parameter | Type of search | Range |\n",
    "| --- | --- | --- | \n",
    "| units_1 | int | [50,150] | \n",
    "| units_2 | int | [10,100] | \n",
    "| Optimizer | categorical | Adam,SDG |\n",
    "| Learning rate (lr) | loguniform | [$10^{-5}$,$10^{-3}$] |\n",
    "| Weight decay | loguniform | [$10^{-5}$,$10^{-2}$] |\n",
    "\n",
    "\n",
    "\n",
    "As regards the type of search: *int* means it will sample an integer number between the given range, *categorical* suggest a value from the list for the categorical parameter, while *loguniform* will instead sample a floting value in the log domain for the continuous parameter. "
   ]
  },
  {
   "cell_type": "markdown",
   "id": "e189991d",
   "metadata": {},
   "source": [
    "As mentioned before, the number of points is not plentiful, indeed splitting the dataset in train set and validation set has reduced even more the samples avaiable for training. To overcome this problem one can use a KFOLD cross-validation, that allows to repeat the training and validation across different splits of the original dataset. The general procedure is the following: \n",
    "\n",
    "1. Partition the training set of m samples into k folds of size m/k\n",
    "2. For each fold:\n",
    "    - Train on the union of the other folds\n",
    "    - Estimate error on the selected fold\n",
    "3. Estimate of the true error as the average of the estimated errors\n",
    "\n",
    "The KFOLD cross validation is implemented inside the training loop of the objective function, the different folds (or splits) can be created thanks to the scikit-learn class [*KFold*](https://scikit-learn.org/stable/modules/generated/sklearn.model_selection.KFold.html). "
   ]
  },
  {
   "cell_type": "code",
   "execution_count": 18,
   "id": "9a82d6fd",
   "metadata": {},
   "outputs": [],
   "source": [
    "def objective(trial):\n",
    "\n",
    "    param_dict ={\n",
    "        #Number of hidden units in the middle layers.\n",
    "        'units_1': trial.suggest_int('units_1', 50, 150),\n",
    "        'units_2': trial.suggest_int('units_2', 10, 100),\n",
    "        'loss': nn.MSELoss(),\n",
    "         #Optimizer parameters + regularization (weight_norm)\n",
    "        'optimizer': trial.suggest_categorical('optimizer', ['Adam', 'SGD']),\n",
    "        'lr': trial.suggest_loguniform('lr', 1e-5, 1e-3),\n",
    "        'weight_norm': trial.suggest_loguniform('weigth_norm',1e-5, 1e-2),#Regularization\n",
    "        'epochs': 300\n",
    "         }    \n",
    "\n",
    "\n",
    "    val_loss_f = []\n",
    "    n_splits =4\n",
    "    #KFOLD Cross Validation\n",
    "    fold = KFold(n_splits=4, shuffle=True, random_state=seed)\n",
    "    for fold_idx, (train_idx, valid_idx) in enumerate(fold.split(range(len(train_dataset)))):\n",
    "        train_data = torch.utils.data.Subset(train_dataset, train_idx)\n",
    "        valid_data = torch.utils.data.Subset(train_dataset, valid_idx)\n",
    "\n",
    "        train_loader = torch.utils.data.DataLoader(\n",
    "          train_data,\n",
    "          batch_size=10,\n",
    "          shuffle=True\n",
    "        )\n",
    "        val_loader = torch.utils.data.DataLoader(\n",
    "          valid_data,\n",
    "          batch_size=5,\n",
    "          shuffle=False #warnings, set to false\n",
    "          )\n",
    "        #print('------- FOLD',fold_idx,'-------')\n",
    "        model = Net(1,param_dict['units_1'],param_dict['units_2'],1).to(device)\n",
    "        train_loss, val_loss= model.train_step(train_loader, val_loader, param_dict)\n",
    "        \n",
    "        val_loss_f.append(np.mean(val_loss))\n",
    "        val_loss = np.mean(val_loss_f)\n",
    "\n",
    "    return val_loss"
   ]
  },
  {
   "cell_type": "markdown",
   "id": "b4af63e5",
   "metadata": {},
   "source": [
    "The two cells below where run ones to inizialize the study optimization and then to save the results of the study"
   ]
  },
  {
   "cell_type": "code",
   "execution_count": 19,
   "id": "ce86b61f",
   "metadata": {},
   "outputs": [],
   "source": [
    "#pruner: optuna.pruners.BasePruner = optuna.pruners.NopPruner()\n",
    "#study = optuna.create_study(study_name=\"myfirstoptimizationstudy\", direction=\"minimize\")\n",
    "#study.optimize(objective, n_trials=20, timeout=None, show_progress_bar=False)"
   ]
  },
  {
   "cell_type": "code",
   "execution_count": 20,
   "id": "e4582920",
   "metadata": {},
   "outputs": [],
   "source": [
    "#save_study = optuna.create_study(study_name=\"firststudy\", direction=\"minimize\", storage=\"sqlite:///regression.db\")\n",
    "#save_study.add_trials(study.trials)"
   ]
  },
  {
   "cell_type": "code",
   "execution_count": 21,
   "id": "dc6b450d",
   "metadata": {},
   "outputs": [],
   "source": [
    "study_load = optuna.load_study(study_name=\"firststudy\", storage=\"sqlite:///regression.db\")"
   ]
  },
  {
   "cell_type": "markdown",
   "id": "a207e4d5",
   "metadata": {},
   "source": [
    "## Study results"
   ]
  },
  {
   "cell_type": "code",
   "execution_count": 23,
   "id": "605cf62c",
   "metadata": {},
   "outputs": [
    {
     "name": "stdout",
     "output_type": "stream",
     "text": [
      "Number of finished trials: 20\n",
      "Best trial:\n",
      "  Value: 0.20971079170703888\n",
      "  Params: \n",
      "    lr: 0.0009037318994370232\n",
      "    optimizer: Adam\n",
      "    units_1: 113\n",
      "    units_2: 85\n",
      "    weigth_norm: 0.002508790684124125\n"
     ]
    }
   ],
   "source": [
    "print(\"Number of finished trials: {}\".format(len(study_load.trials)))\n",
    "\n",
    "print(\"Best trial:\")\n",
    "best_trial = study_load.best_trial\n",
    "\n",
    "print(\"  Value: {}\".format(best_trial.value))\n",
    "\n",
    "print(\"  Params: \")\n",
    "for key, value in best_trial.params.items():\n",
    "    print(\"    {}: {}\".format(key, value))"
   ]
  },
  {
   "cell_type": "markdown",
   "id": "5af7f6fe",
   "metadata": {},
   "source": [
    "In the plot below we explot on of Optuna feature to see which of the hyperparameters has the most importance during the optimization. In this regression study we can see that the learning rate *lr* is the most important one followed by the number of hidden units in the first layer *units_1*."
   ]
  },
  {
   "cell_type": "code",
   "execution_count": 29,
   "id": "8b82622c",
   "metadata": {},
   "outputs": [
    {
     "data": {
      "application/vnd.plotly.v1+json": {
       "config": {
        "plotlyServerURL": "https://plot.ly"
       },
       "data": [
        {
         "cliponaxis": false,
         "hovertemplate": [
          "weigth_norm (LogUniformDistribution): 0.00807728910367637<extra></extra>",
          "units_2 (IntUniformDistribution): 0.04847205224569327<extra></extra>",
          "optimizer (CategoricalDistribution): 0.05457562626195147<extra></extra>",
          "units_1 (IntUniformDistribution): 0.07942375402922836<extra></extra>",
          "lr (LogUniformDistribution): 0.8094512783594505<extra></extra>"
         ],
         "marker": {
          "color": "rgb(66,146,198)"
         },
         "orientation": "h",
         "text": [
          "0.00807728910367637",
          "0.04847205224569327",
          "0.05457562626195147",
          "0.07942375402922836",
          "0.8094512783594505"
         ],
         "textposition": "outside",
         "texttemplate": "%{text:.2f}",
         "type": "bar",
         "x": [
          0.00807728910367637,
          0.04847205224569327,
          0.05457562626195147,
          0.07942375402922836,
          0.8094512783594505
         ],
         "y": [
          "weigth_norm",
          "units_2",
          "optimizer",
          "units_1",
          "lr"
         ]
        }
       ],
       "layout": {
        "showlegend": false,
        "template": {
         "data": {
          "bar": [
           {
            "error_x": {
             "color": "#2a3f5f"
            },
            "error_y": {
             "color": "#2a3f5f"
            },
            "marker": {
             "line": {
              "color": "#E5ECF6",
              "width": 0.5
             },
             "pattern": {
              "fillmode": "overlay",
              "size": 10,
              "solidity": 0.2
             }
            },
            "type": "bar"
           }
          ],
          "barpolar": [
           {
            "marker": {
             "line": {
              "color": "#E5ECF6",
              "width": 0.5
             },
             "pattern": {
              "fillmode": "overlay",
              "size": 10,
              "solidity": 0.2
             }
            },
            "type": "barpolar"
           }
          ],
          "carpet": [
           {
            "aaxis": {
             "endlinecolor": "#2a3f5f",
             "gridcolor": "white",
             "linecolor": "white",
             "minorgridcolor": "white",
             "startlinecolor": "#2a3f5f"
            },
            "baxis": {
             "endlinecolor": "#2a3f5f",
             "gridcolor": "white",
             "linecolor": "white",
             "minorgridcolor": "white",
             "startlinecolor": "#2a3f5f"
            },
            "type": "carpet"
           }
          ],
          "choropleth": [
           {
            "colorbar": {
             "outlinewidth": 0,
             "ticks": ""
            },
            "type": "choropleth"
           }
          ],
          "contour": [
           {
            "colorbar": {
             "outlinewidth": 0,
             "ticks": ""
            },
            "colorscale": [
             [
              0,
              "#0d0887"
             ],
             [
              0.1111111111111111,
              "#46039f"
             ],
             [
              0.2222222222222222,
              "#7201a8"
             ],
             [
              0.3333333333333333,
              "#9c179e"
             ],
             [
              0.4444444444444444,
              "#bd3786"
             ],
             [
              0.5555555555555556,
              "#d8576b"
             ],
             [
              0.6666666666666666,
              "#ed7953"
             ],
             [
              0.7777777777777778,
              "#fb9f3a"
             ],
             [
              0.8888888888888888,
              "#fdca26"
             ],
             [
              1,
              "#f0f921"
             ]
            ],
            "type": "contour"
           }
          ],
          "contourcarpet": [
           {
            "colorbar": {
             "outlinewidth": 0,
             "ticks": ""
            },
            "type": "contourcarpet"
           }
          ],
          "heatmap": [
           {
            "colorbar": {
             "outlinewidth": 0,
             "ticks": ""
            },
            "colorscale": [
             [
              0,
              "#0d0887"
             ],
             [
              0.1111111111111111,
              "#46039f"
             ],
             [
              0.2222222222222222,
              "#7201a8"
             ],
             [
              0.3333333333333333,
              "#9c179e"
             ],
             [
              0.4444444444444444,
              "#bd3786"
             ],
             [
              0.5555555555555556,
              "#d8576b"
             ],
             [
              0.6666666666666666,
              "#ed7953"
             ],
             [
              0.7777777777777778,
              "#fb9f3a"
             ],
             [
              0.8888888888888888,
              "#fdca26"
             ],
             [
              1,
              "#f0f921"
             ]
            ],
            "type": "heatmap"
           }
          ],
          "heatmapgl": [
           {
            "colorbar": {
             "outlinewidth": 0,
             "ticks": ""
            },
            "colorscale": [
             [
              0,
              "#0d0887"
             ],
             [
              0.1111111111111111,
              "#46039f"
             ],
             [
              0.2222222222222222,
              "#7201a8"
             ],
             [
              0.3333333333333333,
              "#9c179e"
             ],
             [
              0.4444444444444444,
              "#bd3786"
             ],
             [
              0.5555555555555556,
              "#d8576b"
             ],
             [
              0.6666666666666666,
              "#ed7953"
             ],
             [
              0.7777777777777778,
              "#fb9f3a"
             ],
             [
              0.8888888888888888,
              "#fdca26"
             ],
             [
              1,
              "#f0f921"
             ]
            ],
            "type": "heatmapgl"
           }
          ],
          "histogram": [
           {
            "marker": {
             "pattern": {
              "fillmode": "overlay",
              "size": 10,
              "solidity": 0.2
             }
            },
            "type": "histogram"
           }
          ],
          "histogram2d": [
           {
            "colorbar": {
             "outlinewidth": 0,
             "ticks": ""
            },
            "colorscale": [
             [
              0,
              "#0d0887"
             ],
             [
              0.1111111111111111,
              "#46039f"
             ],
             [
              0.2222222222222222,
              "#7201a8"
             ],
             [
              0.3333333333333333,
              "#9c179e"
             ],
             [
              0.4444444444444444,
              "#bd3786"
             ],
             [
              0.5555555555555556,
              "#d8576b"
             ],
             [
              0.6666666666666666,
              "#ed7953"
             ],
             [
              0.7777777777777778,
              "#fb9f3a"
             ],
             [
              0.8888888888888888,
              "#fdca26"
             ],
             [
              1,
              "#f0f921"
             ]
            ],
            "type": "histogram2d"
           }
          ],
          "histogram2dcontour": [
           {
            "colorbar": {
             "outlinewidth": 0,
             "ticks": ""
            },
            "colorscale": [
             [
              0,
              "#0d0887"
             ],
             [
              0.1111111111111111,
              "#46039f"
             ],
             [
              0.2222222222222222,
              "#7201a8"
             ],
             [
              0.3333333333333333,
              "#9c179e"
             ],
             [
              0.4444444444444444,
              "#bd3786"
             ],
             [
              0.5555555555555556,
              "#d8576b"
             ],
             [
              0.6666666666666666,
              "#ed7953"
             ],
             [
              0.7777777777777778,
              "#fb9f3a"
             ],
             [
              0.8888888888888888,
              "#fdca26"
             ],
             [
              1,
              "#f0f921"
             ]
            ],
            "type": "histogram2dcontour"
           }
          ],
          "mesh3d": [
           {
            "colorbar": {
             "outlinewidth": 0,
             "ticks": ""
            },
            "type": "mesh3d"
           }
          ],
          "parcoords": [
           {
            "line": {
             "colorbar": {
              "outlinewidth": 0,
              "ticks": ""
             }
            },
            "type": "parcoords"
           }
          ],
          "pie": [
           {
            "automargin": true,
            "type": "pie"
           }
          ],
          "scatter": [
           {
            "fillpattern": {
             "fillmode": "overlay",
             "size": 10,
             "solidity": 0.2
            },
            "type": "scatter"
           }
          ],
          "scatter3d": [
           {
            "line": {
             "colorbar": {
              "outlinewidth": 0,
              "ticks": ""
             }
            },
            "marker": {
             "colorbar": {
              "outlinewidth": 0,
              "ticks": ""
             }
            },
            "type": "scatter3d"
           }
          ],
          "scattercarpet": [
           {
            "marker": {
             "colorbar": {
              "outlinewidth": 0,
              "ticks": ""
             }
            },
            "type": "scattercarpet"
           }
          ],
          "scattergeo": [
           {
            "marker": {
             "colorbar": {
              "outlinewidth": 0,
              "ticks": ""
             }
            },
            "type": "scattergeo"
           }
          ],
          "scattergl": [
           {
            "marker": {
             "colorbar": {
              "outlinewidth": 0,
              "ticks": ""
             }
            },
            "type": "scattergl"
           }
          ],
          "scattermapbox": [
           {
            "marker": {
             "colorbar": {
              "outlinewidth": 0,
              "ticks": ""
             }
            },
            "type": "scattermapbox"
           }
          ],
          "scatterpolar": [
           {
            "marker": {
             "colorbar": {
              "outlinewidth": 0,
              "ticks": ""
             }
            },
            "type": "scatterpolar"
           }
          ],
          "scatterpolargl": [
           {
            "marker": {
             "colorbar": {
              "outlinewidth": 0,
              "ticks": ""
             }
            },
            "type": "scatterpolargl"
           }
          ],
          "scatterternary": [
           {
            "marker": {
             "colorbar": {
              "outlinewidth": 0,
              "ticks": ""
             }
            },
            "type": "scatterternary"
           }
          ],
          "surface": [
           {
            "colorbar": {
             "outlinewidth": 0,
             "ticks": ""
            },
            "colorscale": [
             [
              0,
              "#0d0887"
             ],
             [
              0.1111111111111111,
              "#46039f"
             ],
             [
              0.2222222222222222,
              "#7201a8"
             ],
             [
              0.3333333333333333,
              "#9c179e"
             ],
             [
              0.4444444444444444,
              "#bd3786"
             ],
             [
              0.5555555555555556,
              "#d8576b"
             ],
             [
              0.6666666666666666,
              "#ed7953"
             ],
             [
              0.7777777777777778,
              "#fb9f3a"
             ],
             [
              0.8888888888888888,
              "#fdca26"
             ],
             [
              1,
              "#f0f921"
             ]
            ],
            "type": "surface"
           }
          ],
          "table": [
           {
            "cells": {
             "fill": {
              "color": "#EBF0F8"
             },
             "line": {
              "color": "white"
             }
            },
            "header": {
             "fill": {
              "color": "#C8D4E3"
             },
             "line": {
              "color": "white"
             }
            },
            "type": "table"
           }
          ]
         },
         "layout": {
          "annotationdefaults": {
           "arrowcolor": "#2a3f5f",
           "arrowhead": 0,
           "arrowwidth": 1
          },
          "autotypenumbers": "strict",
          "coloraxis": {
           "colorbar": {
            "outlinewidth": 0,
            "ticks": ""
           }
          },
          "colorscale": {
           "diverging": [
            [
             0,
             "#8e0152"
            ],
            [
             0.1,
             "#c51b7d"
            ],
            [
             0.2,
             "#de77ae"
            ],
            [
             0.3,
             "#f1b6da"
            ],
            [
             0.4,
             "#fde0ef"
            ],
            [
             0.5,
             "#f7f7f7"
            ],
            [
             0.6,
             "#e6f5d0"
            ],
            [
             0.7,
             "#b8e186"
            ],
            [
             0.8,
             "#7fbc41"
            ],
            [
             0.9,
             "#4d9221"
            ],
            [
             1,
             "#276419"
            ]
           ],
           "sequential": [
            [
             0,
             "#0d0887"
            ],
            [
             0.1111111111111111,
             "#46039f"
            ],
            [
             0.2222222222222222,
             "#7201a8"
            ],
            [
             0.3333333333333333,
             "#9c179e"
            ],
            [
             0.4444444444444444,
             "#bd3786"
            ],
            [
             0.5555555555555556,
             "#d8576b"
            ],
            [
             0.6666666666666666,
             "#ed7953"
            ],
            [
             0.7777777777777778,
             "#fb9f3a"
            ],
            [
             0.8888888888888888,
             "#fdca26"
            ],
            [
             1,
             "#f0f921"
            ]
           ],
           "sequentialminus": [
            [
             0,
             "#0d0887"
            ],
            [
             0.1111111111111111,
             "#46039f"
            ],
            [
             0.2222222222222222,
             "#7201a8"
            ],
            [
             0.3333333333333333,
             "#9c179e"
            ],
            [
             0.4444444444444444,
             "#bd3786"
            ],
            [
             0.5555555555555556,
             "#d8576b"
            ],
            [
             0.6666666666666666,
             "#ed7953"
            ],
            [
             0.7777777777777778,
             "#fb9f3a"
            ],
            [
             0.8888888888888888,
             "#fdca26"
            ],
            [
             1,
             "#f0f921"
            ]
           ]
          },
          "colorway": [
           "#636efa",
           "#EF553B",
           "#00cc96",
           "#ab63fa",
           "#FFA15A",
           "#19d3f3",
           "#FF6692",
           "#B6E880",
           "#FF97FF",
           "#FECB52"
          ],
          "font": {
           "color": "#2a3f5f"
          },
          "geo": {
           "bgcolor": "white",
           "lakecolor": "white",
           "landcolor": "#E5ECF6",
           "showlakes": true,
           "showland": true,
           "subunitcolor": "white"
          },
          "hoverlabel": {
           "align": "left"
          },
          "hovermode": "closest",
          "mapbox": {
           "style": "light"
          },
          "paper_bgcolor": "white",
          "plot_bgcolor": "#E5ECF6",
          "polar": {
           "angularaxis": {
            "gridcolor": "white",
            "linecolor": "white",
            "ticks": ""
           },
           "bgcolor": "#E5ECF6",
           "radialaxis": {
            "gridcolor": "white",
            "linecolor": "white",
            "ticks": ""
           }
          },
          "scene": {
           "xaxis": {
            "backgroundcolor": "#E5ECF6",
            "gridcolor": "white",
            "gridwidth": 2,
            "linecolor": "white",
            "showbackground": true,
            "ticks": "",
            "zerolinecolor": "white"
           },
           "yaxis": {
            "backgroundcolor": "#E5ECF6",
            "gridcolor": "white",
            "gridwidth": 2,
            "linecolor": "white",
            "showbackground": true,
            "ticks": "",
            "zerolinecolor": "white"
           },
           "zaxis": {
            "backgroundcolor": "#E5ECF6",
            "gridcolor": "white",
            "gridwidth": 2,
            "linecolor": "white",
            "showbackground": true,
            "ticks": "",
            "zerolinecolor": "white"
           }
          },
          "shapedefaults": {
           "line": {
            "color": "#2a3f5f"
           }
          },
          "ternary": {
           "aaxis": {
            "gridcolor": "white",
            "linecolor": "white",
            "ticks": ""
           },
           "baxis": {
            "gridcolor": "white",
            "linecolor": "white",
            "ticks": ""
           },
           "bgcolor": "#E5ECF6",
           "caxis": {
            "gridcolor": "white",
            "linecolor": "white",
            "ticks": ""
           }
          },
          "title": {
           "x": 0.05
          },
          "xaxis": {
           "automargin": true,
           "gridcolor": "white",
           "linecolor": "white",
           "ticks": "",
           "title": {
            "standoff": 15
           },
           "zerolinecolor": "white",
           "zerolinewidth": 2
          },
          "yaxis": {
           "automargin": true,
           "gridcolor": "white",
           "linecolor": "white",
           "ticks": "",
           "title": {
            "standoff": 15
           },
           "zerolinecolor": "white",
           "zerolinewidth": 2
          }
         }
        },
        "title": {
         "text": "Hyperparameter Importances"
        },
        "xaxis": {
         "title": {
          "text": "Importance for Objective Value"
         }
        },
        "yaxis": {
         "title": {
          "text": "Hyperparameter"
         }
        }
       }
      },
      "text/html": [
       "<div>                            <div id=\"660b510e-f35f-47b9-b1ba-c19b0f1f2100\" class=\"plotly-graph-div\" style=\"height:525px; width:100%;\"></div>            <script type=\"text/javascript\">                require([\"plotly\"], function(Plotly) {                    window.PLOTLYENV=window.PLOTLYENV || {};                                    if (document.getElementById(\"660b510e-f35f-47b9-b1ba-c19b0f1f2100\")) {                    Plotly.newPlot(                        \"660b510e-f35f-47b9-b1ba-c19b0f1f2100\",                        [{\"cliponaxis\":false,\"hovertemplate\":[\"weigth_norm (LogUniformDistribution): 0.00807728910367637<extra></extra>\",\"units_2 (IntUniformDistribution): 0.04847205224569327<extra></extra>\",\"optimizer (CategoricalDistribution): 0.05457562626195147<extra></extra>\",\"units_1 (IntUniformDistribution): 0.07942375402922836<extra></extra>\",\"lr (LogUniformDistribution): 0.8094512783594505<extra></extra>\"],\"marker\":{\"color\":\"rgb(66,146,198)\"},\"orientation\":\"h\",\"text\":[\"0.00807728910367637\",\"0.04847205224569327\",\"0.05457562626195147\",\"0.07942375402922836\",\"0.8094512783594505\"],\"textposition\":\"outside\",\"texttemplate\":\"%{text:.2f}\",\"x\":[0.00807728910367637,0.04847205224569327,0.05457562626195147,0.07942375402922836,0.8094512783594505],\"y\":[\"weigth_norm\",\"units_2\",\"optimizer\",\"units_1\",\"lr\"],\"type\":\"bar\"}],                        {\"showlegend\":false,\"title\":{\"text\":\"Hyperparameter Importances\"},\"xaxis\":{\"title\":{\"text\":\"Importance for Objective Value\"}},\"yaxis\":{\"title\":{\"text\":\"Hyperparameter\"}},\"template\":{\"data\":{\"histogram2dcontour\":[{\"type\":\"histogram2dcontour\",\"colorbar\":{\"outlinewidth\":0,\"ticks\":\"\"},\"colorscale\":[[0.0,\"#0d0887\"],[0.1111111111111111,\"#46039f\"],[0.2222222222222222,\"#7201a8\"],[0.3333333333333333,\"#9c179e\"],[0.4444444444444444,\"#bd3786\"],[0.5555555555555556,\"#d8576b\"],[0.6666666666666666,\"#ed7953\"],[0.7777777777777778,\"#fb9f3a\"],[0.8888888888888888,\"#fdca26\"],[1.0,\"#f0f921\"]]}],\"choropleth\":[{\"type\":\"choropleth\",\"colorbar\":{\"outlinewidth\":0,\"ticks\":\"\"}}],\"histogram2d\":[{\"type\":\"histogram2d\",\"colorbar\":{\"outlinewidth\":0,\"ticks\":\"\"},\"colorscale\":[[0.0,\"#0d0887\"],[0.1111111111111111,\"#46039f\"],[0.2222222222222222,\"#7201a8\"],[0.3333333333333333,\"#9c179e\"],[0.4444444444444444,\"#bd3786\"],[0.5555555555555556,\"#d8576b\"],[0.6666666666666666,\"#ed7953\"],[0.7777777777777778,\"#fb9f3a\"],[0.8888888888888888,\"#fdca26\"],[1.0,\"#f0f921\"]]}],\"heatmap\":[{\"type\":\"heatmap\",\"colorbar\":{\"outlinewidth\":0,\"ticks\":\"\"},\"colorscale\":[[0.0,\"#0d0887\"],[0.1111111111111111,\"#46039f\"],[0.2222222222222222,\"#7201a8\"],[0.3333333333333333,\"#9c179e\"],[0.4444444444444444,\"#bd3786\"],[0.5555555555555556,\"#d8576b\"],[0.6666666666666666,\"#ed7953\"],[0.7777777777777778,\"#fb9f3a\"],[0.8888888888888888,\"#fdca26\"],[1.0,\"#f0f921\"]]}],\"heatmapgl\":[{\"type\":\"heatmapgl\",\"colorbar\":{\"outlinewidth\":0,\"ticks\":\"\"},\"colorscale\":[[0.0,\"#0d0887\"],[0.1111111111111111,\"#46039f\"],[0.2222222222222222,\"#7201a8\"],[0.3333333333333333,\"#9c179e\"],[0.4444444444444444,\"#bd3786\"],[0.5555555555555556,\"#d8576b\"],[0.6666666666666666,\"#ed7953\"],[0.7777777777777778,\"#fb9f3a\"],[0.8888888888888888,\"#fdca26\"],[1.0,\"#f0f921\"]]}],\"contourcarpet\":[{\"type\":\"contourcarpet\",\"colorbar\":{\"outlinewidth\":0,\"ticks\":\"\"}}],\"contour\":[{\"type\":\"contour\",\"colorbar\":{\"outlinewidth\":0,\"ticks\":\"\"},\"colorscale\":[[0.0,\"#0d0887\"],[0.1111111111111111,\"#46039f\"],[0.2222222222222222,\"#7201a8\"],[0.3333333333333333,\"#9c179e\"],[0.4444444444444444,\"#bd3786\"],[0.5555555555555556,\"#d8576b\"],[0.6666666666666666,\"#ed7953\"],[0.7777777777777778,\"#fb9f3a\"],[0.8888888888888888,\"#fdca26\"],[1.0,\"#f0f921\"]]}],\"surface\":[{\"type\":\"surface\",\"colorbar\":{\"outlinewidth\":0,\"ticks\":\"\"},\"colorscale\":[[0.0,\"#0d0887\"],[0.1111111111111111,\"#46039f\"],[0.2222222222222222,\"#7201a8\"],[0.3333333333333333,\"#9c179e\"],[0.4444444444444444,\"#bd3786\"],[0.5555555555555556,\"#d8576b\"],[0.6666666666666666,\"#ed7953\"],[0.7777777777777778,\"#fb9f3a\"],[0.8888888888888888,\"#fdca26\"],[1.0,\"#f0f921\"]]}],\"mesh3d\":[{\"type\":\"mesh3d\",\"colorbar\":{\"outlinewidth\":0,\"ticks\":\"\"}}],\"scatter\":[{\"fillpattern\":{\"fillmode\":\"overlay\",\"size\":10,\"solidity\":0.2},\"type\":\"scatter\"}],\"parcoords\":[{\"type\":\"parcoords\",\"line\":{\"colorbar\":{\"outlinewidth\":0,\"ticks\":\"\"}}}],\"scatterpolargl\":[{\"type\":\"scatterpolargl\",\"marker\":{\"colorbar\":{\"outlinewidth\":0,\"ticks\":\"\"}}}],\"bar\":[{\"error_x\":{\"color\":\"#2a3f5f\"},\"error_y\":{\"color\":\"#2a3f5f\"},\"marker\":{\"line\":{\"color\":\"#E5ECF6\",\"width\":0.5},\"pattern\":{\"fillmode\":\"overlay\",\"size\":10,\"solidity\":0.2}},\"type\":\"bar\"}],\"scattergeo\":[{\"type\":\"scattergeo\",\"marker\":{\"colorbar\":{\"outlinewidth\":0,\"ticks\":\"\"}}}],\"scatterpolar\":[{\"type\":\"scatterpolar\",\"marker\":{\"colorbar\":{\"outlinewidth\":0,\"ticks\":\"\"}}}],\"histogram\":[{\"marker\":{\"pattern\":{\"fillmode\":\"overlay\",\"size\":10,\"solidity\":0.2}},\"type\":\"histogram\"}],\"scattergl\":[{\"type\":\"scattergl\",\"marker\":{\"colorbar\":{\"outlinewidth\":0,\"ticks\":\"\"}}}],\"scatter3d\":[{\"type\":\"scatter3d\",\"line\":{\"colorbar\":{\"outlinewidth\":0,\"ticks\":\"\"}},\"marker\":{\"colorbar\":{\"outlinewidth\":0,\"ticks\":\"\"}}}],\"scattermapbox\":[{\"type\":\"scattermapbox\",\"marker\":{\"colorbar\":{\"outlinewidth\":0,\"ticks\":\"\"}}}],\"scatterternary\":[{\"type\":\"scatterternary\",\"marker\":{\"colorbar\":{\"outlinewidth\":0,\"ticks\":\"\"}}}],\"scattercarpet\":[{\"type\":\"scattercarpet\",\"marker\":{\"colorbar\":{\"outlinewidth\":0,\"ticks\":\"\"}}}],\"carpet\":[{\"aaxis\":{\"endlinecolor\":\"#2a3f5f\",\"gridcolor\":\"white\",\"linecolor\":\"white\",\"minorgridcolor\":\"white\",\"startlinecolor\":\"#2a3f5f\"},\"baxis\":{\"endlinecolor\":\"#2a3f5f\",\"gridcolor\":\"white\",\"linecolor\":\"white\",\"minorgridcolor\":\"white\",\"startlinecolor\":\"#2a3f5f\"},\"type\":\"carpet\"}],\"table\":[{\"cells\":{\"fill\":{\"color\":\"#EBF0F8\"},\"line\":{\"color\":\"white\"}},\"header\":{\"fill\":{\"color\":\"#C8D4E3\"},\"line\":{\"color\":\"white\"}},\"type\":\"table\"}],\"barpolar\":[{\"marker\":{\"line\":{\"color\":\"#E5ECF6\",\"width\":0.5},\"pattern\":{\"fillmode\":\"overlay\",\"size\":10,\"solidity\":0.2}},\"type\":\"barpolar\"}],\"pie\":[{\"automargin\":true,\"type\":\"pie\"}]},\"layout\":{\"autotypenumbers\":\"strict\",\"colorway\":[\"#636efa\",\"#EF553B\",\"#00cc96\",\"#ab63fa\",\"#FFA15A\",\"#19d3f3\",\"#FF6692\",\"#B6E880\",\"#FF97FF\",\"#FECB52\"],\"font\":{\"color\":\"#2a3f5f\"},\"hovermode\":\"closest\",\"hoverlabel\":{\"align\":\"left\"},\"paper_bgcolor\":\"white\",\"plot_bgcolor\":\"#E5ECF6\",\"polar\":{\"bgcolor\":\"#E5ECF6\",\"angularaxis\":{\"gridcolor\":\"white\",\"linecolor\":\"white\",\"ticks\":\"\"},\"radialaxis\":{\"gridcolor\":\"white\",\"linecolor\":\"white\",\"ticks\":\"\"}},\"ternary\":{\"bgcolor\":\"#E5ECF6\",\"aaxis\":{\"gridcolor\":\"white\",\"linecolor\":\"white\",\"ticks\":\"\"},\"baxis\":{\"gridcolor\":\"white\",\"linecolor\":\"white\",\"ticks\":\"\"},\"caxis\":{\"gridcolor\":\"white\",\"linecolor\":\"white\",\"ticks\":\"\"}},\"coloraxis\":{\"colorbar\":{\"outlinewidth\":0,\"ticks\":\"\"}},\"colorscale\":{\"sequential\":[[0.0,\"#0d0887\"],[0.1111111111111111,\"#46039f\"],[0.2222222222222222,\"#7201a8\"],[0.3333333333333333,\"#9c179e\"],[0.4444444444444444,\"#bd3786\"],[0.5555555555555556,\"#d8576b\"],[0.6666666666666666,\"#ed7953\"],[0.7777777777777778,\"#fb9f3a\"],[0.8888888888888888,\"#fdca26\"],[1.0,\"#f0f921\"]],\"sequentialminus\":[[0.0,\"#0d0887\"],[0.1111111111111111,\"#46039f\"],[0.2222222222222222,\"#7201a8\"],[0.3333333333333333,\"#9c179e\"],[0.4444444444444444,\"#bd3786\"],[0.5555555555555556,\"#d8576b\"],[0.6666666666666666,\"#ed7953\"],[0.7777777777777778,\"#fb9f3a\"],[0.8888888888888888,\"#fdca26\"],[1.0,\"#f0f921\"]],\"diverging\":[[0,\"#8e0152\"],[0.1,\"#c51b7d\"],[0.2,\"#de77ae\"],[0.3,\"#f1b6da\"],[0.4,\"#fde0ef\"],[0.5,\"#f7f7f7\"],[0.6,\"#e6f5d0\"],[0.7,\"#b8e186\"],[0.8,\"#7fbc41\"],[0.9,\"#4d9221\"],[1,\"#276419\"]]},\"xaxis\":{\"gridcolor\":\"white\",\"linecolor\":\"white\",\"ticks\":\"\",\"title\":{\"standoff\":15},\"zerolinecolor\":\"white\",\"automargin\":true,\"zerolinewidth\":2},\"yaxis\":{\"gridcolor\":\"white\",\"linecolor\":\"white\",\"ticks\":\"\",\"title\":{\"standoff\":15},\"zerolinecolor\":\"white\",\"automargin\":true,\"zerolinewidth\":2},\"scene\":{\"xaxis\":{\"backgroundcolor\":\"#E5ECF6\",\"gridcolor\":\"white\",\"linecolor\":\"white\",\"showbackground\":true,\"ticks\":\"\",\"zerolinecolor\":\"white\",\"gridwidth\":2},\"yaxis\":{\"backgroundcolor\":\"#E5ECF6\",\"gridcolor\":\"white\",\"linecolor\":\"white\",\"showbackground\":true,\"ticks\":\"\",\"zerolinecolor\":\"white\",\"gridwidth\":2},\"zaxis\":{\"backgroundcolor\":\"#E5ECF6\",\"gridcolor\":\"white\",\"linecolor\":\"white\",\"showbackground\":true,\"ticks\":\"\",\"zerolinecolor\":\"white\",\"gridwidth\":2}},\"shapedefaults\":{\"line\":{\"color\":\"#2a3f5f\"}},\"annotationdefaults\":{\"arrowcolor\":\"#2a3f5f\",\"arrowhead\":0,\"arrowwidth\":1},\"geo\":{\"bgcolor\":\"white\",\"landcolor\":\"#E5ECF6\",\"subunitcolor\":\"white\",\"showland\":true,\"showlakes\":true,\"lakecolor\":\"white\"},\"title\":{\"x\":0.05},\"mapbox\":{\"style\":\"light\"}}}},                        {\"responsive\": true}                    ).then(function(){\n",
       "                            \n",
       "var gd = document.getElementById('660b510e-f35f-47b9-b1ba-c19b0f1f2100');\n",
       "var x = new MutationObserver(function (mutations, observer) {{\n",
       "        var display = window.getComputedStyle(gd).display;\n",
       "        if (!display || display === 'none') {{\n",
       "            console.log([gd, 'removed!']);\n",
       "            Plotly.purge(gd);\n",
       "            observer.disconnect();\n",
       "        }}\n",
       "}});\n",
       "\n",
       "// Listen for the removal of the full notebook cells\n",
       "var notebookContainer = gd.closest('#notebook-container');\n",
       "if (notebookContainer) {{\n",
       "    x.observe(notebookContainer, {childList: true});\n",
       "}}\n",
       "\n",
       "// Listen for the clearing of the current output cell\n",
       "var outputEl = gd.closest('.output');\n",
       "if (outputEl) {{\n",
       "    x.observe(outputEl, {childList: true});\n",
       "}}\n",
       "\n",
       "                        })                };                });            </script>        </div>"
      ]
     },
     "metadata": {},
     "output_type": "display_data"
    }
   ],
   "source": [
    "from optuna.visualization import plot_param_importances\n",
    "plot_param_importances(study_load)"
   ]
  },
  {
   "cell_type": "markdown",
   "id": "db3f2582",
   "metadata": {},
   "source": [
    "If there are any rendering problems, the plots are available at the following [link]( https://github.com/giorgettisabrina/NNDL/tree/main/homework1)"
   ]
  },
  {
   "cell_type": "markdown",
   "id": "e7a9b3cf",
   "metadata": {},
   "source": [
    "# Best model"
   ]
  },
  {
   "cell_type": "markdown",
   "id": "9181762c",
   "metadata": {},
   "source": [
    "We will now train the model on the full training dataset  with the best set of hyperparameters found with the Optuna study.\n",
    "\n",
    "\n",
    "| Parameter | Value |\n",
    "| --- | --- | \n",
    "| units_1| 113|\n",
    "|units_2| 85|\n",
    "|optimizer| Adam|\n",
    "|lr| 0.0009|\n",
    "|weigth_norm| 0.0025|\n"
   ]
  },
  {
   "cell_type": "code",
   "execution_count": 28,
   "id": "16f3e8e0",
   "metadata": {},
   "outputs": [],
   "source": [
    "train_dataloader = DataLoader(train_data, batch_size=15, shuffle=True, num_workers=0)\n",
    "test_dataloader = DataLoader(test_dataset,  batch_size=len(test_dataset), shuffle=False, num_workers=0)\n"
   ]
  },
  {
   "cell_type": "code",
   "execution_count": 29,
   "id": "dbce8c76",
   "metadata": {},
   "outputs": [
    {
     "name": "stderr",
     "output_type": "stream",
     "text": [
      "100%|███████████████████████████████████████████████████████████████████████████████████████████████████████████████████████| 500/500 [00:20<00:00, 24.88it/s]\n"
     ]
    }
   ],
   "source": [
    "best_model = Net(1,best_trial.params['units_1'],best_trial.params['units_2'],1)\n",
    "best_model.to(device)\n",
    "\n",
    "\n",
    "param_dict = {\n",
    "    'epochs': 500,\n",
    "    'loss':  nn.MSELoss(),\n",
    "    'optimizer': best_trial.params['optimizer'],\n",
    "    'lr': best_trial.params['lr'],\n",
    "    'weight_norm': best_trial.params['weigth_norm']\n",
    "    \n",
    "}\n",
    "\n",
    "btrain_loss, btest_loss  = best_model.train_step(train_dataloader, test_dataloader, param_dict)"
   ]
  },
  {
   "cell_type": "code",
   "execution_count": 30,
   "id": "91cd770b",
   "metadata": {
    "scrolled": true
   },
   "outputs": [
    {
     "data": {
      "image/png": "[encoded data removed]",
      "text/plain": [
       "<Figure size 864x576 with 1 Axes>"
      ]
     },
     "metadata": {
      "needs_background": "light"
     },
     "output_type": "display_data"
    }
   ],
   "source": [
    "# Plot losses\n",
    "plt.figure(figsize=(12,8))\n",
    "#plt.semilogy\n",
    "plt.plot(btrain_loss, label='Train loss')\n",
    "plt.plot(btest_loss, label='Test loss')\n",
    "plt.xlabel('Epoch')\n",
    "plt.ylabel('Loss')\n",
    "plt.grid()\n",
    "plt.legend()\n",
    "plt.show()"
   ]
  },
  {
   "cell_type": "markdown",
   "id": "cf9ac305",
   "metadata": {},
   "source": [
    "As we can see from the plot, the trend of the loss is the one seached for: the loss is descreasing as the number of epochs increases. "
   ]
  },
  {
   "cell_type": "markdown",
   "id": "00d98e85",
   "metadata": {},
   "source": [
    "## Prediction"
   ]
  },
  {
   "cell_type": "code",
   "execution_count": 56,
   "id": "bfae314d",
   "metadata": {},
   "outputs": [
    {
     "name": "stdout",
     "output_type": "stream",
     "text": [
      "Input shape: torch.Size([200, 1])\n",
      "Output shape: torch.Size([200, 1])\n"
     ]
    }
   ],
   "source": [
    "# Input vector\n",
    "x_vec = torch.linspace(-5.2,5.2,200).to(device)\n",
    "x_vec = x_vec.unsqueeze(-1)  # Adding a dimension to the input vector\n",
    "print(f\"Input shape: {x_vec.shape}\")\n",
    "\n",
    "# Network output\n",
    "# eval() acts as switch for some specific layers/parts of the model that behave\n",
    "# differently during training and inference (eval) time. For example, Dropout \n",
    "# BatchNorm etc. \n",
    "best_model.eval()\n",
    "with torch.no_grad(): # turn off gradients computation\n",
    "    y_vec = best_model(x_vec)\n",
    "print(f\"Output shape: {y_vec.shape}\")\n",
    "\n",
    "# Expected output\n",
    "#beta_true = [-1.45, 1.12, 2.3]\n",
    "#true_model = poly_model(x_vec.cpu().numpy(), beta_true).squeeze()\n",
    "# Convert x_vec and y_vec to numpy one dimensional arrays\n",
    "x_vec = x_vec.squeeze().cpu().numpy()\n",
    "y_vec = y_vec.squeeze().cpu().numpy()"
   ]
  },
  {
   "cell_type": "code",
   "execution_count": 57,
   "id": "25c36716",
   "metadata": {},
   "outputs": [
    {
     "data": {
      "image/png": "[encoded data removed]",
      "text/plain": [
       "<Figure size 864x576 with 1 Axes>"
      ]
     },
     "metadata": {
      "needs_background": "light"
     },
     "output_type": "display_data"
    }
   ],
   "source": [
    "fig = plt.figure(figsize=(12,8))\n",
    "plt.scatter(train_df.input, train_df.label, label='Training points')\n",
    "plt.scatter(test_df.input, test_df.label, label='Test points')\n",
    "plt.plot(x_vec, y_vec, label='NN prediction', color='green')\n",
    "plt.xlabel('Input')\n",
    "plt.ylabel('Label')\n",
    "plt.grid()\n",
    "plt.legend(fontsize=14)\n",
    "plt.show()"
   ]
  },
  {
   "cell_type": "markdown",
   "id": "37244e83",
   "metadata": {},
   "source": [
    "In the figure above we can see how the network performs when predicting the ouputs for a novel set of data: the line fits well  points between $-4$ and $\\sim 1.5$ and between  $\\sim 2.5,5$, however it fails in a small interval around 2. One reason for this can be connected to the fact that no training points are present in that range and so the model is not able to generalize to trend, even if, we can notice a smaller peak with respect to that local maximum of the function. In the end, we can still assert that the network is able to approximate the function tendency. "
   ]
  },
  {
   "cell_type": "markdown",
   "id": "b5f7ce31",
   "metadata": {},
   "source": [
    "# Visualization"
   ]
  },
  {
   "cell_type": "markdown",
   "id": "01b33362",
   "metadata": {},
   "source": [
    "## Weights \n",
    "\n",
    "We visualize the histograms of the weights of the first,secon hidden layers and output layer to see how they are distributed, one can notice that the weights are finite and not exploding. "
   ]
  },
  {
   "cell_type": "code",
   "execution_count": 59,
   "id": "b94ed97a",
   "metadata": {},
   "outputs": [
    {
     "data": {
      "image/png": "[encoded data removed]",
      "text/plain": [
       "<Figure size 1080x864 with 3 Axes>"
      ]
     },
     "metadata": {
      "needs_background": "light"
     },
     "output_type": "display_data"
    }
   ],
   "source": [
    "weight_fc1 = best_model.fc1.weight.data.cpu().numpy().flatten()\n",
    "bias_fc1 = best_model.fc1.bias.data.cpu().numpy().flatten()\n",
    "\n",
    "weight_fc2 = best_model.fc2.weight.data.cpu().numpy().flatten()\n",
    "bias_fc2 = best_model.fc2.bias.data.cpu().numpy().flatten()\n",
    "\n",
    "weight_out = best_model.out.weight.data.cpu().numpy().flatten()\n",
    "bias_out = best_model.out.bias.data.cpu().numpy().flatten()\n",
    "\n",
    "\n",
    "# Weights histogram\n",
    "plt.figure(figsize=(15, 12))\n",
    "\n",
    "plt.subplot(311)\n",
    "plt.hist(weight_fc1, 50)\n",
    "plt.ylabel('Events')\n",
    "plt.xlabel('Weights first hidden layer')\n",
    "plt.subplot(312)\n",
    "plt.hist(weight_fc2, 20)\n",
    "plt.ylabel('Events')\n",
    "plt.xlabel('Weights second hidden layer')\n",
    "plt.xlim(-2,2)\n",
    "plt.subplot(313)\n",
    "plt.hist(weight_out, 20)\n",
    "plt.ylabel('Events')\n",
    "plt.xlabel('Weights output layer')\n",
    "plt.xlim(-1,1)\n",
    "\n",
    "plt.show()"
   ]
  },
  {
   "cell_type": "code",
   "execution_count": 60,
   "id": "9e3147af",
   "metadata": {},
   "outputs": [
    {
     "data": {
      "image/png": "[encoded data removed]",
      "text/plain": [
       "<Figure size 1080x864 with 2 Axes>"
      ]
     },
     "metadata": {
      "needs_background": "light"
     },
     "output_type": "display_data"
    }
   ],
   "source": [
    "plt.figure(figsize=(15, 12))\n",
    "\n",
    "plt.subplot(311)\n",
    "plt.hist(bias_fc1, 50)\n",
    "plt.ylabel('Events')\n",
    "plt.xlabel('Bias first hidden layer')\n",
    "plt.subplot(312)\n",
    "plt.hist(bias_fc2, 20)\n",
    "plt.ylabel('Events')\n",
    "plt.xlabel('Bias second hidden layer')\n",
    "plt.xlim(-2,2)\n",
    "plt.show()\n",
    "\n"
   ]
  },
  {
   "cell_type": "markdown",
   "id": "96dba80c",
   "metadata": {},
   "source": [
    "### Activation profiles"
   ]
  },
  {
   "cell_type": "markdown",
   "id": "6d6f32eb",
   "metadata": {},
   "source": [
    "In this section we explore the activation profiles of the first and second hidden layer, for different inputs, though the register_forward_hook method [a](https://pytorch.org/docs/stable/generated/torch.nn.modules.module.register_module_forward_hook.html), [b](https://web.stanford.edu/~nanbhas/blog/forward-hooks-pytorch/). \n",
    "From the plots belowe we can see which neurons are firing and the different values reached (y-scale) for the different inputs."
   ]
  },
  {
   "cell_type": "code",
   "execution_count": 61,
   "id": "06cf2b42",
   "metadata": {},
   "outputs": [],
   "source": [
    "def get_activation(layer, input, output):\n",
    "    global activation\n",
    "    activation = torch.relu(output)\n"
   ]
  },
  {
   "cell_type": "code",
   "execution_count": 62,
   "id": "17e2d58f",
   "metadata": {},
   "outputs": [
    {
     "data": {
      "image/png": "[encoded data removed]",
      "text/plain": [
       "<Figure size 1080x648 with 3 Axes>"
      ]
     },
     "metadata": {
      "needs_background": "light"
     },
     "output_type": "display_data"
    }
   ],
   "source": [
    "### Register hook  \n",
    "hook_handle_fc1 = best_model.fc1.register_forward_hook(get_activation)\n",
    "\n",
    "### Analyze activations\n",
    "best_model.to(device).eval()\n",
    "inputs = [-3, 0, 2]\n",
    "inputs_list = [ torch.tensor([x]).float() for x in inputs]\n",
    "outputs_list = []\n",
    "\n",
    "with torch.no_grad():\n",
    "    for inp in inputs_list:\n",
    "        temp_y = best_model(inp.to(device))\n",
    "        outputs_list.append(activation)\n",
    "\n",
    "### Remove hook\n",
    "hook_handle_fc1.remove()\n",
    "\n",
    "plt.figure(figsize=(15,9))\n",
    "for i, out in enumerate(outputs_list):\n",
    "    plt.subplot(3,1,i+1)\n",
    "    plt.stem(out.cpu().numpy(), use_line_collection=True)\n",
    "    plt.title('Activation profiles of first layer for input x=%.f' % inputs[i])\n",
    "plt.tight_layout()\n",
    "plt.show()"
   ]
  },
  {
   "cell_type": "code",
   "execution_count": 63,
   "id": "e3c1c5b4",
   "metadata": {},
   "outputs": [
    {
     "data": {
      "image/png": "[encoded data removed]",
      "text/plain": [
       "<Figure size 1080x648 with 3 Axes>"
      ]
     },
     "metadata": {
      "needs_background": "light"
     },
     "output_type": "display_data"
    }
   ],
   "source": [
    "## Register hook  \n",
    "hook_handle_fc2 = best_model.fc2.register_forward_hook(get_activation)\n",
    "\n",
    "### Analyze activations\n",
    "best_model.to(device).eval()\n",
    "inputs = [-3, 0, 2]\n",
    "inputs_list = [ torch.tensor([x]).float() for x in inputs]\n",
    "outputs_list = []\n",
    "\n",
    "with torch.no_grad():\n",
    "    for inp in inputs_list:\n",
    "        temp_y = best_model(inp.to(device))\n",
    "        outputs_list.append(activation)\n",
    "\n",
    "### Remove hook\n",
    "hook_handle_fc2.remove()\n",
    "\n",
    "plt.figure(figsize=(15,9))\n",
    "for i, out in enumerate(outputs_list):\n",
    "    plt.subplot(3,1,i+1)\n",
    "    plt.stem(out.cpu().numpy(), use_line_collection=True)\n",
    "    plt.title('Activation profiles of second layer for input x=%.f' % inputs[i])\n",
    "plt.tight_layout()\n",
    "plt.show()"
   ]
  },
  {
   "cell_type": "code",
   "execution_count": null,
   "id": "6d1d8171",
   "metadata": {},
   "outputs": [],
   "source": []
  }
 ],
 "metadata": {
  "kernelspec": {
   "display_name": "Python 3",
   "language": "python",
   "name": "python3"
  },
  "language_info": {
   "codemirror_mode": {
    "name": "ipython",
    "version": 3
   },
   "file_extension": ".py",
   "mimetype": "text/x-python",
   "name": "python",
   "nbconvert_exporter": "python",
   "pygments_lexer": "ipython3",
   "version": "3.8.13"
  }
 },
 "nbformat": 4,
 "nbformat_minor": 5
}
